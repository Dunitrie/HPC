{
 "cells": [
  {
   "cell_type": "code",
   "execution_count": 1,
   "id": "8b028e4a-adf6-41bc-aa18-be3c687564ae",
   "metadata": {},
   "outputs": [],
   "source": [
    "import numpy as np\n",
    "import matplotlib.pyplot as plt\n",
    "\n",
    "NX = 100\n",
    "NY = 100\n",
    "w_i = np.array([4/9, 1/9, 1/9, 1/9, 1/9, 1/36, 1/36, 1/36, 1/36])# weights, note that the last four (edges) \n",
    "# are the interpolation points with the highest velocity; weights influence probability density\n",
    "c_ij = np.array([[0, 1,  0, -1, 0, 1, -1, -1, 1], [0, 0, 1, 0, -1, 1, 1, -1, -1]])# velocities x and y component"
   ]
  },
  {
   "cell_type": "code",
   "execution_count": 2,
   "id": "87b65c41-1d5d-47a7-8616-71240d4a65da",
   "metadata": {},
   "outputs": [],
   "source": [
    "u_anm = np.zeros((2,NX,NY))"
   ]
  },
  {
   "cell_type": "code",
   "execution_count": 3,
   "id": "e9594baa-87a2-4517-b708-7ded925232d9",
   "metadata": {},
   "outputs": [],
   "source": [
    "y = np.arange(0, NY)\n",
    "L = NY\n",
    "v = np.sin(2*np.pi/L*y)\n",
    "# wave along the y-direction at one x"
   ]
  },
  {
   "cell_type": "code",
   "execution_count": 6,
   "id": "0caf7624-64d0-4671-b022-cbd97961cbb8",
   "metadata": {},
   "outputs": [
    {
     "data": {
      "text/plain": [
       "[<matplotlib.lines.Line2D at 0x7ff377813ca0>]"
      ]
     },
     "execution_count": 6,
     "metadata": {},
     "output_type": "execute_result"
    },
    {
     "data": {
      "image/png": "[encoded data removed]",
      "text/plain": [
       "<Figure size 432x288 with 1 Axes>"
      ]
     },
     "metadata": {
      "needs_background": "light"
     },
     "output_type": "display_data"
    }
   ],
   "source": [
    "plt.plot(v)"
   ]
  },
  {
   "cell_type": "code",
   "execution_count": 30,
   "id": "ee4fa0d1-5af1-4458-9ce6-b5347c7b5e4e",
   "metadata": {},
   "outputs": [
    {
     "data": {
      "text/plain": [
       "array([[1.        , 1.03139526, 1.06266662, ..., 0.90630934, 0.93733338,\n",
       "        0.96860474],\n",
       "       [1.        , 1.03139526, 1.06266662, ..., 0.90630934, 0.93733338,\n",
       "        0.96860474],\n",
       "       [1.        , 1.03139526, 1.06266662, ..., 0.90630934, 0.93733338,\n",
       "        0.96860474],\n",
       "       ...,\n",
       "       [1.        , 1.03139526, 1.06266662, ..., 0.90630934, 0.93733338,\n",
       "        0.96860474],\n",
       "       [1.        , 1.03139526, 1.06266662, ..., 0.90630934, 0.93733338,\n",
       "        0.96860474],\n",
       "       [1.        , 1.03139526, 1.06266662, ..., 0.90630934, 0.93733338,\n",
       "        0.96860474]])"
      ]
     },
     "execution_count": 30,
     "metadata": {},
     "output_type": "execute_result"
    }
   ],
   "source": [
    "# set initial density\n",
    "rho = np.zeros((NX, NY))\n",
    "rho[:,:] = 1 + 0.5 * np.sin(2*np.pi*y/L)\n",
    "u = np.zeros((2,NX, NY))\n",
    "#plt.plot(rho)\n",
    "rho"
   ]
  },
  {
   "cell_type": "code",
   "execution_count": 7,
   "id": "cfd0a078-56af-46c3-b699-366103bf0f6f",
   "metadata": {},
   "outputs": [
    {
     "data": {
      "image/png": "[encoded data removed]",
      "text/plain": [
       "<Figure size 432x288 with 1 Axes>"
      ]
     },
     "metadata": {
      "needs_background": "light"
     },
     "output_type": "display_data"
    }
   ],
   "source": [
    "fig, ax = plt.subplots()\n",
    "ax.imshow(rho)\n",
    "plt.show()"
   ]
  },
  {
   "cell_type": "code",
   "execution_count": 41,
   "id": "c67e57a8-33b6-4e3c-9cdc-12434e100b80",
   "metadata": {},
   "outputs": [],
   "source": [
    "# simulate the streaming\n",
    "f_inm = np.einsum('i,jk -> ijk', w_i, np.ones((NX, NY)))# product of two arrays\n",
    "\n",
    "def dens_lattice_point(f_vxy):\n",
    "    return np.einsum('vxy -> xy', f_vxy)\n",
    "\n",
    "def vel_field_lattice_point(f_vxy):\n",
    "    return 1/dens_lattice_point(f_vxy) * np.einsum('ij, ixy -> jxy', c_ij.T, f_vxy)\n",
    "\n",
    "def stream(f_ijk):\n",
    "    # define a velocity vector containing all shifting directions\n",
    "    c_ij = [[0, 0],[0, 1],[-1, 0],[0, -1], [1, 0], [-1, 1], [-1, -1], [1, -1], [1, 1]]\n",
    "    for p in range(1,9):\n",
    "        f_ijk[p] = np.roll(f_ijk[p], shift=c_ij[p], axis=(0,1))\n",
    "    return f_ijk\n",
    "\n",
    "f_eq_vxy = np.zeros((9, NX, NY)) # reshape?\n",
    "\n",
    "def equi_dist(rho, av_vel):\n",
    "    u_abs = np.einsum('inm, inm -> nm',abs(av_vel),abs(av_vel))\n",
    "    for j in range(9):\n",
    "        scal = np.einsum('j, jnm -> nm', c_ij.T[j], av_vel)\n",
    "        f_eq_vxy[j] = w_i[j] * rho *(1 + 3*scal + 9/2*scal**2- 3/2 * u_abs)\n",
    "    return f_eq_vxy\n",
    "\n",
    "def comp_new_dist(f_vxy, f_eq, omega = 1):\n",
    "    f_vxy += omega * (f_eq - f_vxy)\n",
    "    # omega describes the impact of the relaxation\n",
    "    return f_vxy"
   ]
  },
  {
   "cell_type": "code",
   "execution_count": 29,
   "id": "b0b4c7ea-0cb6-4e1a-b815-92e167ad87d1",
   "metadata": {},
   "outputs": [],
   "source": [
    "f_eq = equi_dist(rho, u)"
   ]
  },
  {
   "cell_type": "code",
   "execution_count": 35,
   "id": "b41cd8f8-bfe1-481e-8442-2a082b1340c7",
   "metadata": {},
   "outputs": [],
   "source": [
    "for t in range(1000):\n",
    "    f_eq = equi_dist(rho, u)\n",
    "    f_inm = stream(f_inm)\n",
    "    f_inm = comp_new_dist(f_inm, f_eq, omega = 1)\n",
    "    rho = dens_lattice_point(f_inm)\n",
    "    u = vel_field_lattice_point(f_inm)\n",
    "#give the initial rho and u from 2 ot the initial equilibrium\n",
    "# set equi in the start, then just do streaming without changing the equi again\n",
    "# one would expect the wave to decay, as the streaming operation moves the density from each point into the different directions"
   ]
  },
  {
   "cell_type": "code",
   "execution_count": 36,
   "id": "834588f1-1ad4-40ad-9417-cece4843c286",
   "metadata": {},
   "outputs": [
    {
     "data": {
      "image/png": "[encoded data removed]",
      "text/plain": [
       "<Figure size 432x288 with 1 Axes>"
      ]
     },
     "metadata": {
      "needs_background": "light"
     },
     "output_type": "display_data"
    }
   ],
   "source": [
    "fig, ax = plt.subplots()\n",
    "ax.imshow(rho)\n",
    "plt.show()"
   ]
  },
  {
   "cell_type": "code",
   "execution_count": 37,
   "id": "c41b9f58-863d-4025-84dc-d8aa5d5b6e76",
   "metadata": {},
   "outputs": [
    {
     "data": {
      "text/plain": [
       "array([1.        , 1.03139526, 1.06266662, 1.09369066, 1.12434494,\n",
       "       1.1545085 , 1.18406228, 1.21288965, 1.24087684, 1.2679134 ,\n",
       "       1.29389263, 1.31871199, 1.34227355, 1.36448431, 1.38525662,\n",
       "       1.4045085 , 1.42216396, 1.43815334, 1.45241353, 1.46488824,\n",
       "       1.47552826, 1.48429158, 1.49114363, 1.49605735, 1.49901336,\n",
       "       1.5       , 1.49901336, 1.49605735, 1.49114363, 1.48429158,\n",
       "       1.47552826, 1.46488824, 1.45241353, 1.43815334, 1.42216396,\n",
       "       1.4045085 , 1.38525662, 1.36448431, 1.34227355, 1.31871199,\n",
       "       1.29389263, 1.2679134 , 1.24087684, 1.21288965, 1.18406228,\n",
       "       1.1545085 , 1.12434494, 1.09369066, 1.06266662, 1.03139526,\n",
       "       1.        , 0.96860474, 0.93733338, 0.90630934, 0.87565506,\n",
       "       0.8454915 , 0.81593772, 0.78711035, 0.75912316, 0.7320866 ,\n",
       "       0.70610737, 0.68128801, 0.65772645, 0.63551569, 0.61474338,\n",
       "       0.5954915 , 0.57783604, 0.56184666, 0.54758647, 0.53511176,\n",
       "       0.52447174, 0.51570842, 0.50885637, 0.50394265, 0.50098664,\n",
       "       0.5       , 0.50098664, 0.50394265, 0.50885637, 0.51570842,\n",
       "       0.52447174, 0.53511176, 0.54758647, 0.56184666, 0.57783604,\n",
       "       0.5954915 , 0.61474338, 0.63551569, 0.65772645, 0.68128801,\n",
       "       0.70610737, 0.7320866 , 0.75912316, 0.78711035, 0.81593772,\n",
       "       0.8454915 , 0.87565506, 0.90630934, 0.93733338, 0.96860474])"
      ]
     },
     "execution_count": 37,
     "metadata": {},
     "output_type": "execute_result"
    }
   ],
   "source": [
    "rho[0]"
   ]
  },
  {
   "cell_type": "code",
   "execution_count": 39,
   "id": "0bb14e82-20ee-433c-a6c0-16c71ef534a4",
   "metadata": {},
   "outputs": [
    {
     "data": {
      "text/plain": [
       "array([[[0.44444444, 0.45839789, 0.47229627, ..., 0.40280415,\n",
       "         0.41659261, 0.430491  ],\n",
       "        [0.44444444, 0.45839789, 0.47229627, ..., 0.40280415,\n",
       "         0.41659261, 0.430491  ],\n",
       "        [0.44444444, 0.45839789, 0.47229627, ..., 0.40280415,\n",
       "         0.41659261, 0.430491  ],\n",
       "        ...,\n",
       "        [0.44444444, 0.45839789, 0.47229627, ..., 0.40280415,\n",
       "         0.41659261, 0.430491  ],\n",
       "        [0.44444444, 0.45839789, 0.47229627, ..., 0.40280415,\n",
       "         0.41659261, 0.430491  ],\n",
       "        [0.44444444, 0.45839789, 0.47229627, ..., 0.40280415,\n",
       "         0.41659261, 0.430491  ]],\n",
       "\n",
       "       [[0.11111111, 0.11459947, 0.11807407, ..., 0.10070104,\n",
       "         0.10414815, 0.10762275],\n",
       "        [0.11111111, 0.11459947, 0.11807407, ..., 0.10070104,\n",
       "         0.10414815, 0.10762275],\n",
       "        [0.11111111, 0.11459947, 0.11807407, ..., 0.10070104,\n",
       "         0.10414815, 0.10762275],\n",
       "        ...,\n",
       "        [0.11111111, 0.11459947, 0.11807407, ..., 0.10070104,\n",
       "         0.10414815, 0.10762275],\n",
       "        [0.11111111, 0.11459947, 0.11807407, ..., 0.10070104,\n",
       "         0.10414815, 0.10762275],\n",
       "        [0.11111111, 0.11459947, 0.11807407, ..., 0.10070104,\n",
       "         0.10414815, 0.10762275]],\n",
       "\n",
       "       [[0.11111111, 0.11459947, 0.11807407, ..., 0.10070104,\n",
       "         0.10414815, 0.10762275],\n",
       "        [0.11111111, 0.11459947, 0.11807407, ..., 0.10070104,\n",
       "         0.10414815, 0.10762275],\n",
       "        [0.11111111, 0.11459947, 0.11807407, ..., 0.10070104,\n",
       "         0.10414815, 0.10762275],\n",
       "        ...,\n",
       "        [0.11111111, 0.11459947, 0.11807407, ..., 0.10070104,\n",
       "         0.10414815, 0.10762275],\n",
       "        [0.11111111, 0.11459947, 0.11807407, ..., 0.10070104,\n",
       "         0.10414815, 0.10762275],\n",
       "        [0.11111111, 0.11459947, 0.11807407, ..., 0.10070104,\n",
       "         0.10414815, 0.10762275]],\n",
       "\n",
       "       ...,\n",
       "\n",
       "       [[0.02777778, 0.02864987, 0.02951852, ..., 0.02517526,\n",
       "         0.02603704, 0.02690569],\n",
       "        [0.02777778, 0.02864987, 0.02951852, ..., 0.02517526,\n",
       "         0.02603704, 0.02690569],\n",
       "        [0.02777778, 0.02864987, 0.02951852, ..., 0.02517526,\n",
       "         0.02603704, 0.02690569],\n",
       "        ...,\n",
       "        [0.02777778, 0.02864987, 0.02951852, ..., 0.02517526,\n",
       "         0.02603704, 0.02690569],\n",
       "        [0.02777778, 0.02864987, 0.02951852, ..., 0.02517526,\n",
       "         0.02603704, 0.02690569],\n",
       "        [0.02777778, 0.02864987, 0.02951852, ..., 0.02517526,\n",
       "         0.02603704, 0.02690569]],\n",
       "\n",
       "       [[0.02777778, 0.02864987, 0.02951852, ..., 0.02517526,\n",
       "         0.02603704, 0.02690569],\n",
       "        [0.02777778, 0.02864987, 0.02951852, ..., 0.02517526,\n",
       "         0.02603704, 0.02690569],\n",
       "        [0.02777778, 0.02864987, 0.02951852, ..., 0.02517526,\n",
       "         0.02603704, 0.02690569],\n",
       "        ...,\n",
       "        [0.02777778, 0.02864987, 0.02951852, ..., 0.02517526,\n",
       "         0.02603704, 0.02690569],\n",
       "        [0.02777778, 0.02864987, 0.02951852, ..., 0.02517526,\n",
       "         0.02603704, 0.02690569],\n",
       "        [0.02777778, 0.02864987, 0.02951852, ..., 0.02517526,\n",
       "         0.02603704, 0.02690569]],\n",
       "\n",
       "       [[0.02777778, 0.02864987, 0.02951852, ..., 0.02517526,\n",
       "         0.02603704, 0.02690569],\n",
       "        [0.02777778, 0.02864987, 0.02951852, ..., 0.02517526,\n",
       "         0.02603704, 0.02690569],\n",
       "        [0.02777778, 0.02864987, 0.02951852, ..., 0.02517526,\n",
       "         0.02603704, 0.02690569],\n",
       "        ...,\n",
       "        [0.02777778, 0.02864987, 0.02951852, ..., 0.02517526,\n",
       "         0.02603704, 0.02690569],\n",
       "        [0.02777778, 0.02864987, 0.02951852, ..., 0.02517526,\n",
       "         0.02603704, 0.02690569],\n",
       "        [0.02777778, 0.02864987, 0.02951852, ..., 0.02517526,\n",
       "         0.02603704, 0.02690569]]])"
      ]
     },
     "execution_count": 39,
     "metadata": {},
     "output_type": "execute_result"
    }
   ],
   "source": [
    "f_inm\n",
    "# nothing seems to change over time for 1."
   ]
  },
  {
   "cell_type": "code",
   "execution_count": null,
   "id": "a8731830-0c73-4458-be2f-a184d0de861c",
   "metadata": {},
   "outputs": [],
   "source": []
  },
  {
   "cell_type": "code",
   "execution_count": 61,
   "id": "98229bfb-ecea-4d06-85b6-b7e215194584",
   "metadata": {},
   "outputs": [],
   "source": [
    "# now at all x use np.meshgrid\n",
    "X, Y = np.meshgrid(np.arange(NX),y)\n",
    "ux = np.sin(2*np.pi/L*Y)\n",
    "uy = np.zeros((NX, NY))"
   ]
  },
  {
   "cell_type": "code",
   "execution_count": 6,
   "id": "a486ccdc-85e6-4a9e-894b-bc93b7e8cf26",
   "metadata": {},
   "outputs": [
    {
     "data": {
      "text/plain": [
       "array([[ 0.        ,  0.        ,  0.        , ...,  0.        ,\n",
       "         0.        ,  0.        ],\n",
       "       [ 0.06279052,  0.06279052,  0.06279052, ...,  0.06279052,\n",
       "         0.06279052,  0.06279052],\n",
       "       [ 0.12533323,  0.12533323,  0.12533323, ...,  0.12533323,\n",
       "         0.12533323,  0.12533323],\n",
       "       ...,\n",
       "       [-0.18738131, -0.18738131, -0.18738131, ..., -0.18738131,\n",
       "        -0.18738131, -0.18738131],\n",
       "       [-0.12533323, -0.12533323, -0.12533323, ..., -0.12533323,\n",
       "        -0.12533323, -0.12533323],\n",
       "       [-0.06279052, -0.06279052, -0.06279052, ..., -0.06279052,\n",
       "        -0.06279052, -0.06279052]])"
      ]
     },
     "execution_count": 6,
     "metadata": {},
     "output_type": "execute_result"
    }
   ],
   "source": [
    "ux\n"
   ]
  },
  {
   "cell_type": "code",
   "execution_count": 7,
   "id": "deb0b3f5-3bdd-4934-94a4-f624ea2715b8",
   "metadata": {},
   "outputs": [],
   "source": [
    "u = np.stack((ux, uy), axis=0)"
   ]
  },
  {
   "cell_type": "code",
   "execution_count": 8,
   "id": "2f8e7b54-3e7c-48b0-b974-ce36c53d2304",
   "metadata": {},
   "outputs": [
    {
     "data": {
      "text/plain": [
       "(2, 100, 100)"
      ]
     },
     "execution_count": 8,
     "metadata": {},
     "output_type": "execute_result"
    }
   ],
   "source": [
    "u.shape"
   ]
  },
  {
   "cell_type": "code",
   "execution_count": 62,
   "id": "6d364f26-1d00-41da-93eb-64e55fda2e80",
   "metadata": {},
   "outputs": [],
   "source": [
    "# second experiment\n",
    "rho[:,:] = 1\n",
    "# set x component of u to sinus wave\n",
    "u[0] = 0.01*np.sin(np.pi/NY*Y)"
   ]
  },
  {
   "cell_type": "code",
   "execution_count": 64,
   "id": "97ba37c9-d9c0-4262-a0ac-dff48d8d1565",
   "metadata": {},
   "outputs": [],
   "source": [
    "#for t in range(10):\n",
    "    #f_eq = equi_dist(rho, u)\n",
    "f_inm = stream(f_inm)\n",
    "f_inm = comp_new_dist(f_inm, f_eq, omega = 1)\n",
    "rho = dens_lattice_point(f_inm)\n",
    "u = vel_field_lattice_point(f_inm)"
   ]
  },
  {
   "cell_type": "code",
   "execution_count": 65,
   "id": "06a5715a-ad22-43d8-b623-7e5310d5f07f",
   "metadata": {},
   "outputs": [
    {
     "data": {
      "text/plain": [
       "<matplotlib.image.AxesImage at 0x7fe8c2c2bb20>"
      ]
     },
     "execution_count": 65,
     "metadata": {},
     "output_type": "execute_result"
    },
    {
     "data": {
      "image/png": "[encoded data removed]",
      "text/plain": [
       "<Figure size 432x288 with 1 Axes>"
      ]
     },
     "metadata": {
      "needs_background": "light"
     },
     "output_type": "display_data"
    }
   ],
   "source": [
    "plt.imshow(u[0])"
   ]
  },
  {
   "cell_type": "code",
   "execution_count": 67,
   "id": "e9ea3bfe-1a4b-4a4c-9aa4-bfc1844fa19b",
   "metadata": {},
   "outputs": [
    {
     "data": {
      "text/plain": [
       "(2, 100, 100)"
      ]
     },
     "execution_count": 67,
     "metadata": {},
     "output_type": "execute_result"
    }
   ],
   "source": [
    "u.shape"
   ]
  },
  {
   "cell_type": "code",
   "execution_count": 18,
   "id": "38c1b8be-7a38-490e-8596-fea57146133c",
   "metadata": {},
   "outputs": [
    {
     "ename": "TypeError",
     "evalue": "Invalid shape (100,) for image data",
     "output_type": "error",
     "traceback": [
      "\u001b[0;31m---------------------------------------------------------------------------\u001b[0m",
      "\u001b[0;31mTypeError\u001b[0m                                 Traceback (most recent call last)",
      "\u001b[0;32m/var/folders/gj/z9nnj5x96_9bs7flh2nxb33c0000gn/T/ipykernel_24859/3848520174.py\u001b[0m in \u001b[0;36m<module>\u001b[0;34m\u001b[0m\n\u001b[0;32m----> 1\u001b[0;31m \u001b[0mplt\u001b[0m\u001b[0;34m.\u001b[0m\u001b[0mimshow\u001b[0m\u001b[0;34m(\u001b[0m\u001b[0mu\u001b[0m\u001b[0;34m[\u001b[0m\u001b[0;36m0\u001b[0m\u001b[0;34m,\u001b[0m \u001b[0;34m:\u001b[0m\u001b[0;34m,\u001b[0m \u001b[0;36m50\u001b[0m\u001b[0;34m]\u001b[0m\u001b[0;34m)\u001b[0m\u001b[0;34m\u001b[0m\u001b[0;34m\u001b[0m\u001b[0m\n\u001b[0m",
      "\u001b[0;32m~/opt/anaconda3/lib/python3.9/site-packages/matplotlib/pyplot.py\u001b[0m in \u001b[0;36mimshow\u001b[0;34m(X, cmap, norm, aspect, interpolation, alpha, vmin, vmax, origin, extent, filternorm, filterrad, resample, url, data, **kwargs)\u001b[0m\n\u001b[1;32m   2901\u001b[0m         \u001b[0mfilternorm\u001b[0m\u001b[0;34m=\u001b[0m\u001b[0;32mTrue\u001b[0m\u001b[0;34m,\u001b[0m \u001b[0mfilterrad\u001b[0m\u001b[0;34m=\u001b[0m\u001b[0;36m4.0\u001b[0m\u001b[0;34m,\u001b[0m \u001b[0mresample\u001b[0m\u001b[0;34m=\u001b[0m\u001b[0;32mNone\u001b[0m\u001b[0;34m,\u001b[0m \u001b[0murl\u001b[0m\u001b[0;34m=\u001b[0m\u001b[0;32mNone\u001b[0m\u001b[0;34m,\u001b[0m\u001b[0;34m\u001b[0m\u001b[0;34m\u001b[0m\u001b[0m\n\u001b[1;32m   2902\u001b[0m         data=None, **kwargs):\n\u001b[0;32m-> 2903\u001b[0;31m     __ret = gca().imshow(\n\u001b[0m\u001b[1;32m   2904\u001b[0m         \u001b[0mX\u001b[0m\u001b[0;34m,\u001b[0m \u001b[0mcmap\u001b[0m\u001b[0;34m=\u001b[0m\u001b[0mcmap\u001b[0m\u001b[0;34m,\u001b[0m \u001b[0mnorm\u001b[0m\u001b[0;34m=\u001b[0m\u001b[0mnorm\u001b[0m\u001b[0;34m,\u001b[0m \u001b[0maspect\u001b[0m\u001b[0;34m=\u001b[0m\u001b[0maspect\u001b[0m\u001b[0;34m,\u001b[0m\u001b[0;34m\u001b[0m\u001b[0;34m\u001b[0m\u001b[0m\n\u001b[1;32m   2905\u001b[0m         \u001b[0minterpolation\u001b[0m\u001b[0;34m=\u001b[0m\u001b[0minterpolation\u001b[0m\u001b[0;34m,\u001b[0m \u001b[0malpha\u001b[0m\u001b[0;34m=\u001b[0m\u001b[0malpha\u001b[0m\u001b[0;34m,\u001b[0m \u001b[0mvmin\u001b[0m\u001b[0;34m=\u001b[0m\u001b[0mvmin\u001b[0m\u001b[0;34m,\u001b[0m\u001b[0;34m\u001b[0m\u001b[0;34m\u001b[0m\u001b[0m\n",
      "\u001b[0;32m~/opt/anaconda3/lib/python3.9/site-packages/matplotlib/__init__.py\u001b[0m in \u001b[0;36minner\u001b[0;34m(ax, data, *args, **kwargs)\u001b[0m\n\u001b[1;32m   1359\u001b[0m     \u001b[0;32mdef\u001b[0m \u001b[0minner\u001b[0m\u001b[0;34m(\u001b[0m\u001b[0max\u001b[0m\u001b[0;34m,\u001b[0m \u001b[0;34m*\u001b[0m\u001b[0margs\u001b[0m\u001b[0;34m,\u001b[0m \u001b[0mdata\u001b[0m\u001b[0;34m=\u001b[0m\u001b[0;32mNone\u001b[0m\u001b[0;34m,\u001b[0m \u001b[0;34m**\u001b[0m\u001b[0mkwargs\u001b[0m\u001b[0;34m)\u001b[0m\u001b[0;34m:\u001b[0m\u001b[0;34m\u001b[0m\u001b[0;34m\u001b[0m\u001b[0m\n\u001b[1;32m   1360\u001b[0m         \u001b[0;32mif\u001b[0m \u001b[0mdata\u001b[0m \u001b[0;32mis\u001b[0m \u001b[0;32mNone\u001b[0m\u001b[0;34m:\u001b[0m\u001b[0;34m\u001b[0m\u001b[0;34m\u001b[0m\u001b[0m\n\u001b[0;32m-> 1361\u001b[0;31m             \u001b[0;32mreturn\u001b[0m \u001b[0mfunc\u001b[0m\u001b[0;34m(\u001b[0m\u001b[0max\u001b[0m\u001b[0;34m,\u001b[0m \u001b[0;34m*\u001b[0m\u001b[0mmap\u001b[0m\u001b[0;34m(\u001b[0m\u001b[0msanitize_sequence\u001b[0m\u001b[0;34m,\u001b[0m \u001b[0margs\u001b[0m\u001b[0;34m)\u001b[0m\u001b[0;34m,\u001b[0m \u001b[0;34m**\u001b[0m\u001b[0mkwargs\u001b[0m\u001b[0;34m)\u001b[0m\u001b[0;34m\u001b[0m\u001b[0;34m\u001b[0m\u001b[0m\n\u001b[0m\u001b[1;32m   1362\u001b[0m \u001b[0;34m\u001b[0m\u001b[0m\n\u001b[1;32m   1363\u001b[0m         \u001b[0mbound\u001b[0m \u001b[0;34m=\u001b[0m \u001b[0mnew_sig\u001b[0m\u001b[0;34m.\u001b[0m\u001b[0mbind\u001b[0m\u001b[0;34m(\u001b[0m\u001b[0max\u001b[0m\u001b[0;34m,\u001b[0m \u001b[0;34m*\u001b[0m\u001b[0margs\u001b[0m\u001b[0;34m,\u001b[0m \u001b[0;34m**\u001b[0m\u001b[0mkwargs\u001b[0m\u001b[0;34m)\u001b[0m\u001b[0;34m\u001b[0m\u001b[0;34m\u001b[0m\u001b[0m\n",
      "\u001b[0;32m~/opt/anaconda3/lib/python3.9/site-packages/matplotlib/axes/_axes.py\u001b[0m in \u001b[0;36mimshow\u001b[0;34m(self, X, cmap, norm, aspect, interpolation, alpha, vmin, vmax, origin, extent, filternorm, filterrad, resample, url, **kwargs)\u001b[0m\n\u001b[1;32m   5607\u001b[0m                               resample=resample, **kwargs)\n\u001b[1;32m   5608\u001b[0m \u001b[0;34m\u001b[0m\u001b[0m\n\u001b[0;32m-> 5609\u001b[0;31m         \u001b[0mim\u001b[0m\u001b[0;34m.\u001b[0m\u001b[0mset_data\u001b[0m\u001b[0;34m(\u001b[0m\u001b[0mX\u001b[0m\u001b[0;34m)\u001b[0m\u001b[0;34m\u001b[0m\u001b[0;34m\u001b[0m\u001b[0m\n\u001b[0m\u001b[1;32m   5610\u001b[0m         \u001b[0mim\u001b[0m\u001b[0;34m.\u001b[0m\u001b[0mset_alpha\u001b[0m\u001b[0;34m(\u001b[0m\u001b[0malpha\u001b[0m\u001b[0;34m)\u001b[0m\u001b[0;34m\u001b[0m\u001b[0;34m\u001b[0m\u001b[0m\n\u001b[1;32m   5611\u001b[0m         \u001b[0;32mif\u001b[0m \u001b[0mim\u001b[0m\u001b[0;34m.\u001b[0m\u001b[0mget_clip_path\u001b[0m\u001b[0;34m(\u001b[0m\u001b[0;34m)\u001b[0m \u001b[0;32mis\u001b[0m \u001b[0;32mNone\u001b[0m\u001b[0;34m:\u001b[0m\u001b[0;34m\u001b[0m\u001b[0;34m\u001b[0m\u001b[0m\n",
      "\u001b[0;32m~/opt/anaconda3/lib/python3.9/site-packages/matplotlib/image.py\u001b[0m in \u001b[0;36mset_data\u001b[0;34m(self, A)\u001b[0m\n\u001b[1;32m    707\u001b[0m         if not (self._A.ndim == 2\n\u001b[1;32m    708\u001b[0m                 or self._A.ndim == 3 and self._A.shape[-1] in [3, 4]):\n\u001b[0;32m--> 709\u001b[0;31m             raise TypeError(\"Invalid shape {} for image data\"\n\u001b[0m\u001b[1;32m    710\u001b[0m                             .format(self._A.shape))\n\u001b[1;32m    711\u001b[0m \u001b[0;34m\u001b[0m\u001b[0m\n",
      "\u001b[0;31mTypeError\u001b[0m: Invalid shape (100,) for image data"
     ]
    },
    {
     "data": {
      "image/png": "[encoded data removed]",
      "text/plain": [
       "<Figure size 432x288 with 1 Axes>"
      ]
     },
     "metadata": {
      "needs_background": "light"
     },
     "output_type": "display_data"
    }
   ],
   "source": [
    "plt.imshow(u[0, :, 50])"
   ]
  },
  {
   "cell_type": "code",
   "execution_count": null,
   "id": "fbe89522-3d53-4edf-994c-f28b2acea5cf",
   "metadata": {},
   "outputs": [],
   "source": []
  }
 ],
 "metadata": {
  "kernelspec": {
   "display_name": "Python 3 (ipykernel)",
   "language": "python",
   "name": "python3"
  },
  "language_info": {
   "codemirror_mode": {
    "name": "ipython",
    "version": 3
   },
   "file_extension": ".py",
   "mimetype": "text/x-python",
   "name": "python",
   "nbconvert_exporter": "python",
   "pygments_lexer": "ipython3",
   "version": "3.9.7"
  }
 },
 "nbformat": 4,
 "nbformat_minor": 5
}
