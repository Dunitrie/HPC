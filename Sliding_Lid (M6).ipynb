{
 "cells": [
  {
   "cell_type": "code",
   "execution_count": 3,
   "id": "229ae0e5-2535-4ba6-a9bc-3a216fd47859",
   "metadata": {},
   "outputs": [],
   "source": [
    "import numpy as np\n",
    "import matplotlib.pyplot as plt\n",
    "from tqdm import tqdm\n",
    "# reflect points who get \"dry\" by streaming representing boundaries. e.g if you are at the bottom, reflect 4 to 2, i.e. f[2, 1, ] = f[4, 0, ]\n",
    "# that is overwriting the streaming step\n",
    "NX = 300\n",
    "NY = 300\n",
    "w_i = np.array([4/9, 1/9, 1/9, 1/9, 1/9, 1/36, 1/36, 1/36, 1/36])# weights, note that the last four (edges) \n",
    "# are the interpolation points with the highest velocity; weights influence probability density\n",
    "c_ij = np.array([[0, 1,  0, -1, 0, 1, -1, -1, 1], [0, 0, 1, 0, -1, 1, 1, -1, -1]])# velocities x and y component"
   ]
  },
  {
   "cell_type": "code",
   "execution_count": 4,
   "id": "8d840ae5-10e4-4196-9ae3-140e41e359d9",
   "metadata": {},
   "outputs": [],
   "source": [
    "# global density function\n",
    "f_inm = np.einsum('i,jk -> ijk', w_i, np.ones((NX + 2, NY + 2)))# product of two arrays\n",
    "f_inm[:, 0, :] = 0\n",
    "f_inm[:, NX+1, :] = 0\n",
    "f_inm[:, :, 0] = 0\n",
    "f_inm[:, :, NY + 1] = 0\n",
    "      \n",
    "# extended density function with sourrounding for dry nodes"
   ]
  },
  {
   "cell_type": "code",
   "execution_count": 5,
   "id": "3a862da1-64b9-476d-b7b1-e46f4271fd4f",
   "metadata": {},
   "outputs": [],
   "source": [
    "def dens_lattice_point(f_vxy):\n",
    "    return np.einsum('vxy -> xy', f_vxy)\n",
    "\n",
    "def vel_field_lattice_point(f_vxy):\n",
    "    rho = dens_lattice_point(f_vxy)\n",
    "    v = np.einsum('ij, ixy -> jxy', c_ij.T, f_vxy)\n",
    "    return v / rho\n",
    "\n",
    "def stream(f_ijk):\n",
    "    # define a velocity vector containing all shifting directions\n",
    "    c_ij = [[0, 0],[0, 1],[-1, 0],[0, -1], [1, 0], [-1, 1], [-1, -1], [1, -1], [1, 1]]\n",
    "    for p in range(1,9):\n",
    "        f_ijk[p] = np.roll(f_ijk[p], shift=c_ij[p], axis=(0,1))\n",
    "    return f_ijk"
   ]
  },
  {
   "cell_type": "code",
   "execution_count": 6,
   "id": "9158afc0-0813-4df2-b42c-de3ca620820f",
   "metadata": {},
   "outputs": [],
   "source": [
    "f_eq_vxy = np.zeros((9, NX+2, NY+2)) # reshape?\n",
    "\n",
    "# equilibrium and collision operater\n",
    "def equi_dist(rho, av_vel):\n",
    "    u_abs = np.einsum('inm, inm -> nm',abs(av_vel),abs(av_vel))\n",
    "    for j in range(9):\n",
    "        scal = np.einsum('j, jnm -> nm', c_ij.T[j], av_vel)\n",
    "        f_eq_vxy[j] = w_i[j] * rho *(1 + 3*scal + 9/2*scal**2- 3/2 * u_abs)\n",
    "    return f_eq_vxy\n",
    "\n",
    "def comp_new_dist(f_vxy, f_eq, omega = 1):\n",
    "    f_vxy += omega * (f_eq - f_vxy)\n",
    "    # omega describes the impact of the relaxation\n",
    "    return f_vxy"
   ]
  },
  {
   "cell_type": "code",
   "execution_count": 7,
   "id": "1305c4a4-e21f-43d4-9c0e-35f35828b409",
   "metadata": {},
   "outputs": [],
   "source": [
    "# for the sliding lid we implement a moving wall for the top boundary and three rigid walls for the other boundaries\n",
    "\n",
    "# moving wall\n",
    "def moving_wall(vel):\n",
    "    #calculate the values from Mohamad, used for the simulation of the moving wall\n",
    "    rho_N = f_inm[0, 1, 1:NY+1] + f_inm[1, 1, 1:NY+1] + f_inm[3, 1, 1:NY+1]  + 2 * (f_inm[2, 1, 1:NY+1] + f_inm[6, 1, 1:NY+1] + f_inm[5, 1, 1:NY+1])\n",
    "    f_inm[4, 1, :] = f_inm[2, 0, :]\n",
    "    # velocity of moving wall\n",
    "    u_N = vel\n",
    "\n",
    "    f_inm[7, 1, 1:NY+1] = f_inm[5, 0, 2:NY+2]\n",
    "    f_inm[7, 1, 1:NY+1] += 1/2 * (f_inm[1, 1, 1:NY+1] - f_inm[3, 1, 1:NY+1]) - 1/2 * rho_N * u_N\n",
    "    f_inm[8, 1, 1:NY+1] = f_inm[6, 0, 0:NY]\n",
    "    f_inm[8, 1, 1:NY+1] += 1/2 * (f_inm[3, 1, 1:NY+1] - f_inm[1, 1, 1:NY+1]) + 1/2 * rho_N * u_N"
   ]
  },
  {
   "cell_type": "code",
   "execution_count": 8,
   "id": "f9d822d7-c53d-47db-abfd-4dd696355060",
   "metadata": {},
   "outputs": [],
   "source": [
    "# rigid walls\n",
    "def bounce_back_south():\n",
    "    # bottom boundary implemented as hard wall, reflecting the streaming impulses; this has to happen after the streaming step\n",
    "    f_inm[2, NX, :] = f_inm[4, NX+1, :]\n",
    "\n",
    "    # northeast bounce back from left down corner to right down corner of wet nodes\n",
    "    f_inm[5, NX, 1:NY+1] = f_inm[7, NX+1, 0:NY]\n",
    "    # northwest bounce back\n",
    "    f_inm[6, NX, 1:NY+1] = f_inm[8, NX+1, 2:NY+2]\n",
    "    # set dry nodes back to zero so they do not influence streaming\n",
    "    f_inm[7, NX+1, :] = 0\n",
    "    f_inm[8, NX+1, :] = 0\n",
    "\n",
    "def bounce_back_west():\n",
    "    f_inm[1, :, 1] = f_inm[3, :, 0]\n",
    "    \n",
    "    # northeast bounce back from left down corner to left upper corner\n",
    "    f_inm[5, 1:NX+1, 1] = f_inm[7, 2:NX+2, 0] \n",
    "    # southeast bounce back\n",
    "    f_inm[8, 1:NX+1, 1] = f_inm[6, 0:NX, 0]\n",
    "    \n",
    "    # set dry nodes to zero\n",
    "    f_inm[7, :, 0] = 0\n",
    "    f_inm[8, :, 0] = 0\n",
    "    \n",
    "def bounce_back_east():\n",
    "    f_inm[3, :, NY] = f_inm[1, :, NY+1]\n",
    "    \n",
    "    # southwest bounce back\n",
    "    f_inm[6, 1:NX+1, NY] = f_inm[8, 2:NX+2, NY+1]\n",
    "    # northwest bounce back\n",
    "    f_inm[7, 1:NX+1, NY] = f_inm[5, 0:NX, NY+1]\n",
    "    \n",
    "    # set dry nodes to zero\n",
    "    f_inm[8, 2:NX+2, NY+1] = 0\n",
    "    f_inm[5, 0:NX, NY+1] = 0"
   ]
  },
  {
   "cell_type": "code",
   "execution_count": 9,
   "id": "84df6a0f-ec21-4b4d-bc11-97d73aee3d36",
   "metadata": {},
   "outputs": [],
   "source": [
    "# TODO: Think about the order of the functions calls of the walls for the simulation: what happens in the corners \n",
    "# of the wet node grid?\n",
    "# Intuition: Do moving wall first to bounce back the modified data\n",
    "# Still: how to do bounce back in the southern corners? Average over both values"
   ]
  },
  {
   "cell_type": "code",
   "execution_count": 11,
   "id": "1d9382b6-8f47-411b-a4b8-5176cd363e1d",
   "metadata": {},
   "outputs": [],
   "source": [
    "# some streaming to get input for streamplot\n",
    "rho = np.ones((NX+2, NY+2))\n",
    "#rho[:,:] = 1\n",
    "u = np.zeros((2,NX+2, NY+2))\n",
    "\n",
    "f_inm_eq = equi_dist(rho, u)\n",
    "f_inm = comp_new_dist(f_inm, f_inm_eq, omega = 0.3)\n",
    "\n",
    "for i in range(10):\n",
    "    f_inm = stream(f_inm)\n",
    "    # moving wall, bounceback and corrections in the dry nodes\n",
    "    f_inm[1, 1:NX+1, 1] = f_inm[1, 1:NX+1, NY+1]\n",
    "\n",
    "    f_inm[3, 1:NX+1, NY] = f_inm[3, 1:NX+1, 0]\n",
    "    #f_inm[4, 1, 1:NY+1] = f_inm[4, NX+1, 1:NY+1]\n",
    "    moving_wall(0.05)\n",
    "    #f_inm[2, NX, 1:NY+1] = f_inm[2, 0, 1:NY+1]\n",
    "    \n",
    "    f_inm[5, 1:NX, 1] = f_inm[5, 1:NX, NY+1] # leave the left down corner to be corrected by the rigid wall\n",
    "    f_inm[5, 0:NX+1, NY+1] = 0\n",
    "    f_inm[5, 0, :] = 0\n",
    "    f_inm[6, 1:NX , NY] = f_inm[6, 1:NX, 0] # same as for channel 5, right down corner\n",
    "    f_inm[6, 0:NX+1, 0] = 0\n",
    "    f_inm[6, 0, :] = 0\n",
    "    bounce_back_south()\n",
    "    #clear the dry nodes after calculations\n",
    "    f_inm[1, 1:NX+1, NY+1] = 0\n",
    "    f_inm[2, 0, 1:NY+1] = 0\n",
    "    f_inm[3, 1:NX+1, 0] = 0\n",
    "    f_inm[4, NX+1, 1:NY+1] = 0"
   ]
  },
  {
   "cell_type": "code",
   "execution_count": 18,
   "id": "45a429d3-34a8-4722-ac58-d7b5660a0eeb",
   "metadata": {},
   "outputs": [
    {
     "data": {
      "text/plain": [
       "<matplotlib.streamplot.StreamplotSet at 0x7f9b5d743910>"
      ]
     },
     "execution_count": 18,
     "metadata": {},
     "output_type": "execute_result"
    },
    {
     "data": {
      "image/png": "[encoded data removed]",
      "text/plain": [
       "<Figure size 432x288 with 1 Axes>"
      ]
     },
     "metadata": {
      "needs_background": "light"
     },
     "output_type": "display_data"
    }
   ],
   "source": [
    "# Streamplot simutations\n",
    "#np.meshgrid(NX, NY)\n",
    "X = np.arange(NX)\n",
    "Y = np.arange(NY)\n",
    "plt.streamplot(X, Y, u[0,1:NX+1, 1:NY+1], u[1,1:NX+1, 1:NY+1 ], density=1)"
   ]
  },
  {
   "cell_type": "code",
   "execution_count": null,
   "id": "8b55386e-e553-4fdd-a587-74e4bd685b5c",
   "metadata": {},
   "outputs": [],
   "source": []
  }
 ],
 "metadata": {
  "kernelspec": {
   "display_name": "Python 3 (ipykernel)",
   "language": "python",
   "name": "python3"
  },
  "language_info": {
   "codemirror_mode": {
    "name": "ipython",
    "version": 3
   },
   "file_extension": ".py",
   "mimetype": "text/x-python",
   "name": "python",
   "nbconvert_exporter": "python",
   "pygments_lexer": "ipython3",
   "version": "3.9.7"
  }
 },
 "nbformat": 4,
 "nbformat_minor": 5
}
